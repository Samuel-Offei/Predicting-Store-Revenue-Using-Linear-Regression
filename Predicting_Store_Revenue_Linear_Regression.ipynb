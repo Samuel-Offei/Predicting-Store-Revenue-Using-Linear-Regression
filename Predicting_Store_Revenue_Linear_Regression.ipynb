{
 "cells": [
  {
   "cell_type": "markdown",
   "id": "2a6ffc0a",
   "metadata": {},
   "source": [
    "## Predicting Store Revenue Using Linear Regression"
   ]
  },
  {
   "cell_type": "markdown",
   "id": "dfb94788-bbed-4131-9c81-9b0cb5fa273b",
   "metadata": {},
   "source": [
    "## No. 1"
   ]
  },
  {
   "cell_type": "code",
   "execution_count": 5,
   "id": "630dcff4",
   "metadata": {},
   "outputs": [],
   "source": [
    "# Importing necessary libraries\n",
    "import numpy as np\n",
    "import pandas as pd \n",
    "import matplotlib.pyplot as plt\n",
    "%matplotlib inline\n",
    "import seaborn as sns "
   ]
  },
  {
   "cell_type": "code",
   "execution_count": 7,
   "id": "21f8935a",
   "metadata": {
    "scrolled": true
   },
   "outputs": [
    {
     "data": {
      "text/html": [
       "<div>\n",
       "<style scoped>\n",
       "    .dataframe tbody tr th:only-of-type {\n",
       "        vertical-align: middle;\n",
       "    }\n",
       "\n",
       "    .dataframe tbody tr th {\n",
       "        vertical-align: top;\n",
       "    }\n",
       "\n",
       "    .dataframe thead th {\n",
       "        text-align: right;\n",
       "    }\n",
       "</style>\n",
       "<table border=\"1\" class=\"dataframe\">\n",
       "  <thead>\n",
       "    <tr style=\"text-align: right;\">\n",
       "      <th></th>\n",
       "      <th>revenue</th>\n",
       "      <th>num_competitors</th>\n",
       "      <th>median_income</th>\n",
       "      <th>num_loyalty_members</th>\n",
       "      <th>population_density</th>\n",
       "      <th>location_age</th>\n",
       "    </tr>\n",
       "  </thead>\n",
       "  <tbody>\n",
       "    <tr>\n",
       "      <th>0</th>\n",
       "      <td>42247.80</td>\n",
       "      <td>3.0</td>\n",
       "      <td>30527.57</td>\n",
       "      <td>1407.0</td>\n",
       "      <td>3302.0</td>\n",
       "      <td>12.0</td>\n",
       "    </tr>\n",
       "    <tr>\n",
       "      <th>1</th>\n",
       "      <td>38628.37</td>\n",
       "      <td>3.0</td>\n",
       "      <td>30185.49</td>\n",
       "      <td>1025.0</td>\n",
       "      <td>4422.0</td>\n",
       "      <td>11.0</td>\n",
       "    </tr>\n",
       "    <tr>\n",
       "      <th>2</th>\n",
       "      <td>39715.16</td>\n",
       "      <td>1.0</td>\n",
       "      <td>32182.24</td>\n",
       "      <td>1498.0</td>\n",
       "      <td>3260.0</td>\n",
       "      <td>12.0</td>\n",
       "    </tr>\n",
       "    <tr>\n",
       "      <th>3</th>\n",
       "      <td>35593.30</td>\n",
       "      <td>5.0</td>\n",
       "      <td>29728.65</td>\n",
       "      <td>2340.0</td>\n",
       "      <td>4325.0</td>\n",
       "      <td>10.0</td>\n",
       "    </tr>\n",
       "    <tr>\n",
       "      <th>4</th>\n",
       "      <td>35128.18</td>\n",
       "      <td>4.0</td>\n",
       "      <td>30691.17</td>\n",
       "      <td>847.0</td>\n",
       "      <td>3774.0</td>\n",
       "      <td>11.0</td>\n",
       "    </tr>\n",
       "  </tbody>\n",
       "</table>\n",
       "</div>"
      ],
      "text/plain": [
       "    revenue  num_competitors  median_income  num_loyalty_members  \\\n",
       "0  42247.80              3.0       30527.57               1407.0   \n",
       "1  38628.37              3.0       30185.49               1025.0   \n",
       "2  39715.16              1.0       32182.24               1498.0   \n",
       "3  35593.30              5.0       29728.65               2340.0   \n",
       "4  35128.18              4.0       30691.17                847.0   \n",
       "\n",
       "   population_density  location_age  \n",
       "0              3302.0          12.0  \n",
       "1              4422.0          11.0  \n",
       "2              3260.0          12.0  \n",
       "3              4325.0          10.0  \n",
       "4              3774.0          11.0  "
      ]
     },
     "execution_count": 7,
     "metadata": {},
     "output_type": "execute_result"
    }
   ],
   "source": [
    "# Reading the dataset from a CSV file\n",
    "location_rev_data = pd.read_csv('location_rev.csv') \n",
    "\n",
    "# Displaying the first 5 rows of the dataset\n",
    "location_rev_data.head(5)"
   ]
  },
  {
   "cell_type": "markdown",
   "id": "1421d2cc-0338-4672-b1b4-9dc0bf9ad69b",
   "metadata": {},
   "source": [
    "#### Interpretation\n",
    "\n",
    "This dataset contains business-related data with the following columns: revenue, number of competitors, median income, number of loyalty members, population density, and location age. Each row represents a specific location or business, providing insights into its financial performance, competitive environment, demographic context, customer loyalty, and operational age. The first few entries show varying values across these metrics, reflecting diverse business scenarios and conditions."
   ]
  },
  {
   "cell_type": "markdown",
   "id": "3871a518-8715-4189-8fe7-6e580f03f09a",
   "metadata": {},
   "source": [
    "## No. 2"
   ]
  },
  {
   "cell_type": "code",
   "execution_count": 10,
   "id": "f9b0c714",
   "metadata": {},
   "outputs": [],
   "source": [
    "# Importing the train_test_split function from sklearn.model_selection\n",
    "from sklearn.model_selection import train_test_split\n",
    "\n",
    "# Extracting features (independent variables) from the dataset\n",
    "X = location_rev_data[['num_competitors', \n",
    "        'median_income',\n",
    "        'num_loyalty_members',\n",
    "        'population_density',\n",
    "        'location_age']]\n",
    "\n",
    "# Extracting the target variable (dependent variable) from the dataset\n",
    "y = location_rev_data['revenue']"
   ]
  },
  {
   "cell_type": "markdown",
   "id": "1f570549-b2c8-4853-9f0d-025f812450f8",
   "metadata": {},
   "source": [
    "## No. 3"
   ]
  },
  {
   "cell_type": "code",
   "execution_count": 12,
   "id": "0ac112e9-1eb3-4c73-a3f4-50da8ef8ec6d",
   "metadata": {},
   "outputs": [],
   "source": [
    "# Importing the train_test_split function from sklearn.model_selection\n",
    "\n",
    "X_train, X_test, y_train, y_test = train_test_split(X, y, random_state = 100)"
   ]
  },
  {
   "cell_type": "markdown",
   "id": "660fcf58-9225-4f3f-a8ab-8aa745a9f35e",
   "metadata": {},
   "source": [
    "## No. 4"
   ]
  },
  {
   "cell_type": "code",
   "execution_count": 14,
   "id": "2d23a969",
   "metadata": {},
   "outputs": [
    {
     "data": {
      "text/html": [
       "<style>#sk-container-id-1 {color: black;}#sk-container-id-1 pre{padding: 0;}#sk-container-id-1 div.sk-toggleable {background-color: white;}#sk-container-id-1 label.sk-toggleable__label {cursor: pointer;display: block;width: 100%;margin-bottom: 0;padding: 0.3em;box-sizing: border-box;text-align: center;}#sk-container-id-1 label.sk-toggleable__label-arrow:before {content: \"▸\";float: left;margin-right: 0.25em;color: #696969;}#sk-container-id-1 label.sk-toggleable__label-arrow:hover:before {color: black;}#sk-container-id-1 div.sk-estimator:hover label.sk-toggleable__label-arrow:before {color: black;}#sk-container-id-1 div.sk-toggleable__content {max-height: 0;max-width: 0;overflow: hidden;text-align: left;background-color: #f0f8ff;}#sk-container-id-1 div.sk-toggleable__content pre {margin: 0.2em;color: black;border-radius: 0.25em;background-color: #f0f8ff;}#sk-container-id-1 input.sk-toggleable__control:checked~div.sk-toggleable__content {max-height: 200px;max-width: 100%;overflow: auto;}#sk-container-id-1 input.sk-toggleable__control:checked~label.sk-toggleable__label-arrow:before {content: \"▾\";}#sk-container-id-1 div.sk-estimator input.sk-toggleable__control:checked~label.sk-toggleable__label {background-color: #d4ebff;}#sk-container-id-1 div.sk-label input.sk-toggleable__control:checked~label.sk-toggleable__label {background-color: #d4ebff;}#sk-container-id-1 input.sk-hidden--visually {border: 0;clip: rect(1px 1px 1px 1px);clip: rect(1px, 1px, 1px, 1px);height: 1px;margin: -1px;overflow: hidden;padding: 0;position: absolute;width: 1px;}#sk-container-id-1 div.sk-estimator {font-family: monospace;background-color: #f0f8ff;border: 1px dotted black;border-radius: 0.25em;box-sizing: border-box;margin-bottom: 0.5em;}#sk-container-id-1 div.sk-estimator:hover {background-color: #d4ebff;}#sk-container-id-1 div.sk-parallel-item::after {content: \"\";width: 100%;border-bottom: 1px solid gray;flex-grow: 1;}#sk-container-id-1 div.sk-label:hover label.sk-toggleable__label {background-color: #d4ebff;}#sk-container-id-1 div.sk-serial::before {content: \"\";position: absolute;border-left: 1px solid gray;box-sizing: border-box;top: 0;bottom: 0;left: 50%;z-index: 0;}#sk-container-id-1 div.sk-serial {display: flex;flex-direction: column;align-items: center;background-color: white;padding-right: 0.2em;padding-left: 0.2em;position: relative;}#sk-container-id-1 div.sk-item {position: relative;z-index: 1;}#sk-container-id-1 div.sk-parallel {display: flex;align-items: stretch;justify-content: center;background-color: white;position: relative;}#sk-container-id-1 div.sk-item::before, #sk-container-id-1 div.sk-parallel-item::before {content: \"\";position: absolute;border-left: 1px solid gray;box-sizing: border-box;top: 0;bottom: 0;left: 50%;z-index: -1;}#sk-container-id-1 div.sk-parallel-item {display: flex;flex-direction: column;z-index: 1;position: relative;background-color: white;}#sk-container-id-1 div.sk-parallel-item:first-child::after {align-self: flex-end;width: 50%;}#sk-container-id-1 div.sk-parallel-item:last-child::after {align-self: flex-start;width: 50%;}#sk-container-id-1 div.sk-parallel-item:only-child::after {width: 0;}#sk-container-id-1 div.sk-dashed-wrapped {border: 1px dashed gray;margin: 0 0.4em 0.5em 0.4em;box-sizing: border-box;padding-bottom: 0.4em;background-color: white;}#sk-container-id-1 div.sk-label label {font-family: monospace;font-weight: bold;display: inline-block;line-height: 1.2em;}#sk-container-id-1 div.sk-label-container {text-align: center;}#sk-container-id-1 div.sk-container {/* jupyter's `normalize.less` sets `[hidden] { display: none; }` but bootstrap.min.css set `[hidden] { display: none !important; }` so we also need the `!important` here to be able to override the default hidden behavior on the sphinx rendered scikit-learn.org. See: https://github.com/scikit-learn/scikit-learn/issues/21755 */display: inline-block !important;position: relative;}#sk-container-id-1 div.sk-text-repr-fallback {display: none;}</style><div id=\"sk-container-id-1\" class=\"sk-top-container\"><div class=\"sk-text-repr-fallback\"><pre>LinearRegression()</pre><b>In a Jupyter environment, please rerun this cell to show the HTML representation or trust the notebook. <br />On GitHub, the HTML representation is unable to render, please try loading this page with nbviewer.org.</b></div><div class=\"sk-container\" hidden><div class=\"sk-item\"><div class=\"sk-estimator sk-toggleable\"><input class=\"sk-toggleable__control sk-hidden--visually\" id=\"sk-estimator-id-1\" type=\"checkbox\" checked><label for=\"sk-estimator-id-1\" class=\"sk-toggleable__label sk-toggleable__label-arrow\">LinearRegression</label><div class=\"sk-toggleable__content\"><pre>LinearRegression()</pre></div></div></div></div></div>"
      ],
      "text/plain": [
       "LinearRegression()"
      ]
     },
     "execution_count": 14,
     "metadata": {},
     "output_type": "execute_result"
    }
   ],
   "source": [
    "# Importing the LinearRegression class from sklearn.linear_model\n",
    "\n",
    "from sklearn.linear_model import LinearRegression\n",
    "\n",
    "# Creating an instance of the LinearRegression model\n",
    "model = LinearRegression() \n",
    "\n",
    "# Training the Linear Regression model using the training data\n",
    "model.fit(X_train,y_train)"
   ]
  },
  {
   "cell_type": "markdown",
   "id": "38e7d4e5-c973-406c-a94e-fc1019963862",
   "metadata": {},
   "source": [
    "#### Interpretation\n",
    "\n",
    "This code imports the LinearRegression class from the sklearn.linear_model module and creates an instance of the LinearRegression model. The model is then trained using the training data (X_train and y_train). This process fits the model to the data, allowing it to learn the relationship between the features and the target variable."
   ]
  },
  {
   "cell_type": "markdown",
   "id": "cc1d7218-1afa-4720-86ac-b6547df77449",
   "metadata": {},
   "source": [
    "## No.5"
   ]
  },
  {
   "cell_type": "code",
   "execution_count": 16,
   "id": "752a837d-b837-4f15-b7f4-2f8a88e0922d",
   "metadata": {},
   "outputs": [
    {
     "data": {
      "text/plain": [
       "array([-2.14765128e+03,  1.71903196e+00,  3.50665069e+00,  4.31777912e+00,\n",
       "        2.06703103e+03])"
      ]
     },
     "execution_count": 16,
     "metadata": {},
     "output_type": "execute_result"
    }
   ],
   "source": [
    "# Retrieving the coefficients of the trained Linear Regression model\n",
    "model_coefficients = model.coef_\n",
    "\n",
    "# Display the coefficients\n",
    "model_coefficients  "
   ]
  },
  {
   "cell_type": "markdown",
   "id": "69c2d8cf-eaa8-493b-9ace-e4377d3986b2",
   "metadata": {},
   "source": [
    "#### Interpretation\n",
    "\n",
    "This output displays the coefficients of a trained Linear Regression model.\n",
    "These values indicate the weight or influence each feature has on the predicted variable. Positive coefficients suggest a direct relationship, while negative coefficients suggest an inverse relationship."
   ]
  },
  {
   "cell_type": "markdown",
   "id": "e25c6929-25ad-4ea8-baf1-f843dcdcdaf3",
   "metadata": {},
   "source": [
    "## No.6"
   ]
  },
  {
   "cell_type": "code",
   "execution_count": 195,
   "id": "a28a2839-99a4-40d4-b2c8-ec27885fb4a4",
   "metadata": {},
   "outputs": [
    {
     "data": {
      "text/plain": [
       "-51068.6364423639"
      ]
     },
     "execution_count": 195,
     "metadata": {},
     "output_type": "execute_result"
    }
   ],
   "source": [
    "# Retrieving the intercept of the trained Linear Regression model\n",
    "model_intercept = model.intercept_\n",
    "\n",
    "# Display the intercept\n",
    "model_intercept  "
   ]
  },
  {
   "cell_type": "markdown",
   "id": "9294d959-cf1e-4eac-9a02-48577988cebb",
   "metadata": {},
   "source": [
    "#### Interpretation\n",
    "\n",
    "The intercept of the trained Linear Regression model is -51068.6364423639. This value represents the point where the regression line crosses the y-axis when all feature values are zero. It is the baseline value of the dependent variable in the absence of any influence from the independent variables."
   ]
  },
  {
   "cell_type": "markdown",
   "id": "bb21d644-ee75-404e-9c6d-20fde2cd193c",
   "metadata": {},
   "source": [
    "## No. 7"
   ]
  },
  {
   "cell_type": "code",
   "execution_count": 197,
   "id": "28234054-3cb4-46ab-a90c-16de8e96f1e1",
   "metadata": {},
   "outputs": [
    {
     "data": {
      "text/plain": [
       "array([27573.21782447])"
      ]
     },
     "execution_count": 197,
     "metadata": {},
     "output_type": "execute_result"
    }
   ],
   "source": [
    "Predicted_revenue = pd.DataFrame({ \n",
    "    'num_competitors': [3], \n",
    "    'median_income': [30000], \n",
    "    'num_loyalty_members': [1200], \n",
    "    'population_density': [2000],\n",
    "'location_age':[10]})\n",
    "model.predict(Predicted_revenue)"
   ]
  },
  {
   "cell_type": "markdown",
   "id": "2b2e09d8-1617-409c-926b-1183bb3a5def",
   "metadata": {},
   "source": [
    "#### Interpretation\n",
    "\n",
    "The predicted revenue for a business with the given features—3 competitors, a median income of 30,000, 1,200 loyalty members, a population density of 2,000, and a location age of 10 years—is 27,573.22. This prediction is made using the trained Linear Regression model."
   ]
  },
  {
   "cell_type": "markdown",
   "id": "203f177b-8f84-461b-a3a3-30d432bc07e7",
   "metadata": {},
   "source": [
    "## No. 8"
   ]
  },
  {
   "cell_type": "code",
   "execution_count": 204,
   "id": "e764a9d2-80d6-432c-876c-31cc568d77db",
   "metadata": {
    "scrolled": true
   },
   "outputs": [
    {
     "data": {
      "image/png": "[encoded data removed]",
      "text/plain": [
       "<Figure size 640x480 with 1 Axes>"
      ]
     },
     "metadata": {},
     "output_type": "display_data"
    }
   ],
   "source": [
    "# Scatter plot of model predictions vs true values\n",
    "plt.scatter(model.predict(X_test), y_test, color='gray')\n",
    "\n",
    "# Setting the limits for the x and y axes to match the image\n",
    "plt.xlim(0, 100000)\n",
    "plt.ylim(0, 100000)\n",
    "\n",
    "# Plotting a line y=x for reference\n",
    "plt.plot([0, 100000], [0, 100000], 'k-')\n",
    "\n",
    "# Adding labels to the axes\n",
    "plt.xlabel('Model Predictions')\n",
    "plt.ylabel('True Value')\n",
    "\n",
    "# Displaying the plot\n",
    "plt.show()"
   ]
  },
  {
   "cell_type": "markdown",
   "id": "e6e2dacf-5365-4c92-a7ad-8de926d1a890",
   "metadata": {},
   "source": [
    "#### Interpretation\n",
    "\n",
    "The scatter plot compares the model predictions to the true values. Each point represents a prediction, with the x-axis showing the predicted values and the y-axis showing the true values. The diagonal line 𝑦=𝑥 serves as a reference for perfect predictions (where predicted values equal true values). The closer the points are to this line, the better the model's performance. The plot shows that the model's predictions are reasonably close to the true values, indicating a good fit but with some variance."
   ]
  },
  {
   "cell_type": "markdown",
   "id": "460bf87a-d5f3-4917-9458-c4d101c0135e",
   "metadata": {},
   "source": [
    "## No. 9"
   ]
  },
  {
   "cell_type": "code",
   "execution_count": 210,
   "id": "2e62dbe7-7974-48fd-8573-02150647d8ed",
   "metadata": {},
   "outputs": [
    {
     "data": {
      "text/plain": [
       "0.906159782790756"
      ]
     },
     "execution_count": 210,
     "metadata": {},
     "output_type": "execute_result"
    }
   ],
   "source": [
    "# Computing the correlation coefficient between the model predictions and the true values\n",
    "correlation_matrix = np.corrcoef(model.predict(X_test), y_test)\n",
    "\n",
    "# Extracting the correlation coefficient\n",
    "correlation_coefficient = correlation_matrix[0, 1]  \n",
    "\n",
    "# Display the correlation coefficient\n",
    "correlation_coefficient  "
   ]
  },
  {
   "cell_type": "markdown",
   "id": "0582ee08-b7f6-42f9-b1d2-485ba9eb8335",
   "metadata": {},
   "source": [
    "#### Interpretation\n",
    "\n",
    "The correlation coefficient between the model predictions and the true values is 0.906159782790756. This high correlation indicates a strong positive relationship between the predicted values and the actual values, suggesting that the model's predictions are highly aligned with the true outcomes."
   ]
  }
 ],
 "metadata": {
  "kernelspec": {
   "display_name": "Python 3 (ipykernel)",
   "language": "python",
   "name": "python3"
  },
  "language_info": {
   "codemirror_mode": {
    "name": "ipython",
    "version": 3
   },
   "file_extension": ".py",
   "mimetype": "text/x-python",
   "name": "python",
   "nbconvert_exporter": "python",
   "pygments_lexer": "ipython3",
   "version": "3.11.5"
  }
 },
 "nbformat": 4,
 "nbformat_minor": 5
}
